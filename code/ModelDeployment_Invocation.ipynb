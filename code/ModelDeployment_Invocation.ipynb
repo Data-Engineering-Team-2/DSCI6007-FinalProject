{
 "cells": [
  {
   "cell_type": "markdown",
   "id": "933417d9",
   "metadata": {},
   "source": [
    "# Model Deployment and Invocation"
   ]
  },
  {
   "cell_type": "code",
   "execution_count": 9,
   "id": "e2b6f436",
   "metadata": {},
   "outputs": [],
   "source": [
    "import tarfile\n",
    "import sagemaker\n",
    "from sagemaker import get_execution_role\n",
    "from sagemaker.tensorflow import TensorFlowModel\n",
    "import numpy as np"
   ]
  },
  {
   "cell_type": "markdown",
   "id": "66ed3779",
   "metadata": {},
   "source": [
    "## Creating Archive File for Saved Model"
   ]
  },
  {
   "cell_type": "code",
   "execution_count": 6,
   "id": "b8905cd4",
   "metadata": {},
   "outputs": [],
   "source": [
    "# Create a tar.gz file containing the model files\n",
    "with tarfile.open('model.tar.gz', 'w:gz') as tar:\n",
    "    tar.add('model/assets', arcname='1/assets')\n",
    "    tar.add('model/variables', arcname='1/variables')\n",
    "    tar.add('model/saved_model.pb', arcname='1/saved_model.pb')\n",
    "    tar.add('model/fingerprint.pb', arcname='1/fingerprint.pb')"
   ]
  },
  {
   "cell_type": "markdown",
   "id": "bbfb25fd",
   "metadata": {},
   "source": [
    "## Uploading Model to S3 Bucket"
   ]
  },
  {
   "cell_type": "code",
   "execution_count": 7,
   "id": "eb1f6399",
   "metadata": {},
   "outputs": [
    {
     "name": "stdout",
     "output_type": "stream",
     "text": [
      "Model uploaded to: s3://dsci6007-final-project/model/model.tar.gz\n"
     ]
    }
   ],
   "source": [
    "# Get the default Sagemaker session\n",
    "sagemaker_session = sagemaker.Session()\n",
    "role = get_execution_role()\n",
    "\n",
    "model_path = 'model.tar.gz'\n",
    "bucket_name = 'dsci6007-final-project'\n",
    "s3_key = 'model'  # The S3 path where you want to upload the model\n",
    "\n",
    "# Upload the model to S3\n",
    "s3_model_path = sagemaker_session.upload_data(path=model_path, bucket=bucket_name, key_prefix=s3_key)\n",
    "\n",
    "print(\"Model uploaded to:\", s3_model_path)"
   ]
  },
  {
   "cell_type": "markdown",
   "id": "41c5b61c",
   "metadata": {},
   "source": [
    "## Deploying Model as Sagemaker Endpoint"
   ]
  },
  {
   "cell_type": "code",
   "execution_count": 8,
   "id": "da62e967",
   "metadata": {},
   "outputs": [
    {
     "name": "stdout",
     "output_type": "stream",
     "text": [
      "----!"
     ]
    }
   ],
   "source": [
    "# Specify the S3 path where your model is stored\n",
    "model_s3_path = 's3://dsci6007-final-project/model/model.tar.gz'\n",
    "\n",
    "# Create a TensorFlowModel object\n",
    "model = TensorFlowModel(model_data=model_s3_path, role=role, framework_version='2.14')\n",
    "\n",
    "# Deploy the model as an endpoint\n",
    "predictor = model.deploy(instance_type='ml.m5.xlarge', initial_instance_count=1)"
   ]
  },
  {
   "cell_type": "markdown",
   "id": "76e134d5",
   "metadata": {},
   "source": [
    "## Invoking the Endpoint"
   ]
  },
  {
   "cell_type": "code",
   "execution_count": 21,
   "id": "6088589a",
   "metadata": {},
   "outputs": [],
   "source": [
    "# Load model input and relevant info for predictions\n",
    "input_data = np.load('input_data.npy')\n",
    "max_cpi = 281.695\n",
    "min_cpi = 269.819"
   ]
  },
  {
   "cell_type": "code",
   "execution_count": 22,
   "id": "d648de41",
   "metadata": {},
   "outputs": [],
   "source": [
    "# Generate prediction from the model\n",
    "prediction = predictor.predict(input_data)['predictions'][0][0]"
   ]
  },
  {
   "cell_type": "code",
   "execution_count": 24,
   "id": "287088c8",
   "metadata": {},
   "outputs": [
    {
     "name": "stdout",
     "output_type": "stream",
     "text": [
      "The Core CPI value for the month Nov 2021 predicted by LSTM is  281.625\n",
      "The forecasted U.S. Core Consumer Price Index (CPI) YoY is  4.38 %\n"
     ]
    }
   ],
   "source": [
    "forecast =  max_cpi-prediction/(max_cpi-min_cpi)\n",
    "print('The Core CPI value for the month Nov 2021 predicted by LSTM is ', round(forecast,3))\n",
    "\n",
    "pct_chg = ((forecast - min_cpi)/min_cpi) * 100\n",
    "print('The forecasted U.S. Core Consumer Price Index (CPI) YoY is ', round(pct_chg,2), '%')"
   ]
  }
 ],
 "metadata": {
  "kernelspec": {
   "display_name": "conda_tensorflow2_p310",
   "language": "python",
   "name": "conda_tensorflow2_p310"
  },
  "language_info": {
   "codemirror_mode": {
    "name": "ipython",
    "version": 3
   },
   "file_extension": ".py",
   "mimetype": "text/x-python",
   "name": "python",
   "nbconvert_exporter": "python",
   "pygments_lexer": "ipython3",
   "version": "3.10.13"
  }
 },
 "nbformat": 4,
 "nbformat_minor": 5
}
