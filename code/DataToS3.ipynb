{
 "cells": [
  {
   "cell_type": "markdown",
   "id": "609d5940",
   "metadata": {},
   "source": [
    "# Loading Data to S3 Bucket"
   ]
  },
  {
   "cell_type": "code",
   "execution_count": 1,
   "id": "ca82f34e",
   "metadata": {},
   "outputs": [
    {
     "name": "stdout",
     "output_type": "stream",
     "text": [
      "sagemaker.config INFO - Not applying SDK defaults from location: /etc/xdg/sagemaker/config.yaml\n",
      "sagemaker.config INFO - Not applying SDK defaults from location: /home/ec2-user/.config/sagemaker/config.yaml\n"
     ]
    }
   ],
   "source": [
    "import sagemaker\n",
    "from sagemaker.session import Session"
   ]
  },
  {
   "cell_type": "code",
   "execution_count": 2,
   "id": "ea82e5ef",
   "metadata": {},
   "outputs": [],
   "source": [
    "# Get the default Sagemaker session\n",
    "sagemaker_session = sagemaker.Session()\n",
    "\n",
    "# Specify your file path\n",
    "file_path = 'inflation_monthly.csv'\n",
    "\n",
    "# Specify your S3 bucket\n",
    "bucket_name = 'dsci6007-final-project'\n",
    "\n",
    "# Specify the S3 path to upload the file to\n",
    "s3_key = 'data'  # The path within the bucket where you want to upload the file"
   ]
  },
  {
   "cell_type": "code",
   "execution_count": 3,
   "id": "9ae239cb",
   "metadata": {},
   "outputs": [
    {
     "name": "stdout",
     "output_type": "stream",
     "text": [
      "File uploaded to: s3://dsci6007-final-project/data/inflation_monthly.csv\n"
     ]
    }
   ],
   "source": [
    "# Upload the file to S3\n",
    "s3_uri = sagemaker_session.upload_data(path=file_path, bucket=bucket_name, key_prefix=s3_key)\n",
    "\n",
    "print(\"File uploaded to:\", s3_uri)"
   ]
  }
 ],
 "metadata": {
  "kernelspec": {
   "display_name": "conda_tensorflow2_p310",
   "language": "python",
   "name": "conda_tensorflow2_p310"
  },
  "language_info": {
   "codemirror_mode": {
    "name": "ipython",
    "version": 3
   },
   "file_extension": ".py",
   "mimetype": "text/x-python",
   "name": "python",
   "nbconvert_exporter": "python",
   "pygments_lexer": "ipython3",
   "version": "3.10.13"
  }
 },
 "nbformat": 4,
 "nbformat_minor": 5
}
